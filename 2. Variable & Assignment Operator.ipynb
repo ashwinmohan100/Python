{
 "cells": [
  {
   "cell_type": "code",
   "execution_count": 1,
   "id": "b1b553bb-58fe-4b1d-b140-db18a2ece5e0",
   "metadata": {},
   "outputs": [
    {
     "name": "stdout",
     "output_type": "stream",
     "text": [
      "30\n"
     ]
    }
   ],
   "source": [
    "num1 = 10\n",
    "num2 = 20\n",
    "add = num1 + num2\n",
    "print(add)"
   ]
  },
  {
   "cell_type": "code",
   "execution_count": 2,
   "id": "83f345ea-a15c-42fb-af2e-222c072a86c4",
   "metadata": {},
   "outputs": [
    {
     "name": "stdout",
     "output_type": "stream",
     "text": [
      "The addition of two numbers\n",
      "Number 1 value :  10\n",
      "Number 2 value :  20\n",
      "Addition value :  30\n"
     ]
    }
   ],
   "source": [
    "print(\"The addition of two numbers\")\n",
    "num1 = 10\n",
    "num2 = 20\n",
    "add = num1 + num2\n",
    "print(\"Number 1 value : \", num1)\n",
    "print(\"Number 2 value : \", num2)\n",
    "print(\"Addition value : \", add)"
   ]
  },
  {
   "cell_type": "code",
   "execution_count": 4,
   "id": "40bc2d15-5b14-42dd-bbe1-4f3b262555b4",
   "metadata": {},
   "outputs": [
    {
     "name": "stdin",
     "output_type": "stream",
     "text": [
      "Enter a number 10\n"
     ]
    },
    {
     "name": "stdout",
     "output_type": "stream",
     "text": [
      "10\n"
     ]
    },
    {
     "name": "stdin",
     "output_type": "stream",
     "text": [
      "Enter one more number 50\n"
     ]
    },
    {
     "name": "stdout",
     "output_type": "stream",
     "text": [
      "50\n",
      "1050\n"
     ]
    }
   ],
   "source": [
    "n1 = input(\"Enter a number\")\n",
    "print(n1)\n",
    "n2 = input(\"Enter one more number\")\n",
    "print(n2)\n",
    "print(n1 + n2)"
   ]
  },
  {
   "cell_type": "code",
   "execution_count": 5,
   "id": "ddee1f0a-8e91-4934-9822-79facb335888",
   "metadata": {},
   "outputs": [
    {
     "name": "stdin",
     "output_type": "stream",
     "text": [
      "enter a number again 10\n",
      "enter one more number again 50\n"
     ]
    },
    {
     "name": "stdout",
     "output_type": "stream",
     "text": [
      "60\n"
     ]
    }
   ],
   "source": [
    "n1 = int(input(\"enter a number again\"))\n",
    "n2 = int(input(\"enter one more number again\"))\n",
    "print(n1 + n2)"
   ]
  },
  {
   "cell_type": "code",
   "execution_count": null,
   "id": "4adf83f9-2f3d-4595-a22f-4ec626a13d9a",
   "metadata": {},
   "outputs": [],
   "source": []
  }
 ],
 "metadata": {
  "kernelspec": {
   "display_name": "Python 3 (ipykernel)",
   "language": "python",
   "name": "python3"
  },
  "language_info": {
   "codemirror_mode": {
    "name": "ipython",
    "version": 3
   },
   "file_extension": ".py",
   "mimetype": "text/x-python",
   "name": "python",
   "nbconvert_exporter": "python",
   "pygments_lexer": "ipython3",
   "version": "3.12.7"
  }
 },
 "nbformat": 4,
 "nbformat_minor": 5
}
