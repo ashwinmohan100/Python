{
 "cells": [
  {
   "cell_type": "code",
   "execution_count": 1,
   "id": "4fb3379d-e354-4d0f-977e-51f9a2528ccb",
   "metadata": {},
   "outputs": [
    {
     "name": "stdout",
     "output_type": "stream",
     "text": [
      "Children\n",
      "Adult\n",
      "Citizen\n",
      "Senior Citizen\n",
      "Senior Citizen\n"
     ]
    }
   ],
   "source": [
    "lists = [12, 25, 33, 45, 60]\n",
    "def ageFunction():\n",
    "    for age in lists:\n",
    "        if(age < 18):\n",
    "            print(\"Children\")\n",
    "        elif(age < 28):\n",
    "            print(\"Adult\")\n",
    "        elif(age < 45):\n",
    "            print(\"Citizen\")\n",
    "        else:\n",
    "            print(\"Senior Citizen\")\n",
    "\n",
    "ageFunction()"
   ]
  },
  {
   "cell_type": "code",
   "execution_count": null,
   "id": "2ddc57b2-6d77-4834-82ae-19585e3f373b",
   "metadata": {},
   "outputs": [],
   "source": []
  }
 ],
 "metadata": {
  "kernelspec": {
   "display_name": "Python 3 (ipykernel)",
   "language": "python",
   "name": "python3"
  },
  "language_info": {
   "codemirror_mode": {
    "name": "ipython",
    "version": 3
   },
   "file_extension": ".py",
   "mimetype": "text/x-python",
   "name": "python",
   "nbconvert_exporter": "python",
   "pygments_lexer": "ipython3",
   "version": "3.12.7"
  }
 },
 "nbformat": 4,
 "nbformat_minor": 5
}
