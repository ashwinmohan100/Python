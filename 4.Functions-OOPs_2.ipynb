{
 "cells": [
  {
   "cell_type": "code",
   "execution_count": 11,
   "id": "86f0c2f7-2b40-420c-90ca-1c86ac675382",
   "metadata": {},
   "outputs": [
    {
     "name": "stdin",
     "output_type": "stream",
     "text": [
      "Enter your age BMI 22\n"
     ]
    },
    {
     "name": "stdout",
     "output_type": "stream",
     "text": [
      "Normal\n",
      "Hey you are currently fit. Maintain this fitness\n"
     ]
    }
   ],
   "source": [
    "def BMICalculation():\n",
    "    bmi = int(input(\"Enter your age BMI\"))\n",
    "    if bmi < 18.5:\n",
    "        print(\"Underweight\")\n",
    "        value = \"Underweight\"\n",
    "    elif 18.5 <= bmi <= 24.9:\n",
    "        print(\"Normal\")\n",
    "        value = \"Normal\"\n",
    "    elif 25 <= bmi <= 29.9:\n",
    "        print(\"Overweight\")\n",
    "        value = \"Overweight\"\n",
    "    else:\n",
    "        print(\"Very Overweight\")                \n",
    "        value = \"Very Overweight\"\n",
    "    return value\n",
    "\n",
    "bmi = BMICalculation()\n",
    "if(bmi == \"Normal\"):\n",
    "   print(\"Hey you are currently fit. Maintain this fitness\")\n"
   ]
  },
  {
   "cell_type": "markdown",
   "id": "48b8f6a4-50b3-45fb-8c18-844b2d864783",
   "metadata": {},
   "source": []
  }
 ],
 "metadata": {
  "kernelspec": {
   "display_name": "Python 3 (ipykernel)",
   "language": "python",
   "name": "python3"
  },
  "language_info": {
   "codemirror_mode": {
    "name": "ipython",
    "version": 3
   },
   "file_extension": ".py",
   "mimetype": "text/x-python",
   "name": "python",
   "nbconvert_exporter": "python",
   "pygments_lexer": "ipython3",
   "version": "3.12.7"
  }
 },
 "nbformat": 4,
 "nbformat_minor": 5
}
