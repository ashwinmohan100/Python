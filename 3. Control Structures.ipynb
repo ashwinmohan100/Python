{
 "cells": [
  {
   "cell_type": "code",
   "execution_count": 4,
   "id": "f183721a-5e5c-4b64-918c-d60065d95c96",
   "metadata": {},
   "outputs": [
    {
     "name": "stdin",
     "output_type": "stream",
     "text": [
      "Enter your age 17\n"
     ]
    },
    {
     "name": "stdout",
     "output_type": "stream",
     "text": [
      "You are not Adult\n"
     ]
    }
   ],
   "source": [
    "#if\n",
    "age = int(input(\"Enter your age\"))\n",
    "if(age == 18):\n",
    "    print(\"Adult\")\n",
    "\n",
    "#if-else\n",
    "if(age >= 18):\n",
    "    print(\"You are Adult\")\n",
    "else:\n",
    "    print(\"You are not Adult\")\n",
    "\n"
   ]
  },
  {
   "cell_type": "code",
   "execution_count": 6,
   "id": "4bee91d7-3985-4575-b05b-57d95b5456fa",
   "metadata": {},
   "outputs": [
    {
     "name": "stdin",
     "output_type": "stream",
     "text": [
      "Enter your age 40\n"
     ]
    },
    {
     "name": "stdout",
     "output_type": "stream",
     "text": [
      "Citizen\n"
     ]
    }
   ],
   "source": [
    "#if-elif\n",
    "age = int(input(\"Enter your age\"))\n",
    "\n",
    "if(age < 18):\n",
    "    print(\"Children\")\n",
    "elif(age < 35):\n",
    "    print(\"Adult\")\n",
    "elif(age < 59):\n",
    "    print(\"Citizen\")\n",
    "else:\n",
    "    print(\"Senior Citizen\")\n"
   ]
  },
  {
   "cell_type": "code",
   "execution_count": null,
   "id": "22cd989d-0ea7-4a15-99e0-f57659ff627d",
   "metadata": {},
   "outputs": [],
   "source": []
  }
 ],
 "metadata": {
  "kernelspec": {
   "display_name": "Python 3 (ipykernel)",
   "language": "python",
   "name": "python3"
  },
  "language_info": {
   "codemirror_mode": {
    "name": "ipython",
    "version": 3
   },
   "file_extension": ".py",
   "mimetype": "text/x-python",
   "name": "python",
   "nbconvert_exporter": "python",
   "pygments_lexer": "ipython3",
   "version": "3.12.7"
  }
 },
 "nbformat": 4,
 "nbformat_minor": 5
}
