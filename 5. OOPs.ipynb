{
 "cells": [
  {
   "cell_type": "code",
   "execution_count": 1,
   "id": "76d2c48b-fa2d-477e-9e7f-d9bfc6e8c446",
   "metadata": {},
   "outputs": [
    {
     "name": "stdout",
     "output_type": "stream",
     "text": [
      "Sub-fields in AI are:\n",
      "Machine Learning\n",
      "Neural Networks\n",
      "Vision\n",
      "Robotics\n",
      "Speech Processing\n",
      "Natural Language Processing\n"
     ]
    }
   ],
   "source": [
    "class SampleClass():\n",
    "    def Subfields():\n",
    "        aiSubFields = [\"Machine Learning\", \"Neural Networks\", \"Vision\", \"Robotics\", \"Speech Processing\", \"Natural Language Processing\"]\n",
    "        print(\"Sub-fields in AI are:\")\n",
    "        for fields in aiSubFields:\n",
    "            print(fields)\n",
    "\n",
    "    def OddEven():\n",
    "        number = int(input(\"Enter a Number: \"))\n",
    "        if(number % 2 == 0):\n",
    "            print(f\"{number} is Even number\")\n",
    "        else :\n",
    "            print(f\"{number} is Odd number\")\n",
    "\n",
    "\n",
    "SampleClass.Subfields()\n"
   ]
  },
  {
   "cell_type": "code",
   "execution_count": 2,
   "id": "9e31cf09-b9a1-45ad-b441-fedb21aa80e0",
   "metadata": {},
   "outputs": [
    {
     "name": "stdin",
     "output_type": "stream",
     "text": [
      "Enter a Number:  25\n"
     ]
    },
    {
     "name": "stdout",
     "output_type": "stream",
     "text": [
      "25 is Odd number\n"
     ]
    }
   ],
   "source": [
    "SampleClass.OddEven()\n"
   ]
  },
  {
   "cell_type": "code",
   "execution_count": null,
   "id": "d64fe8de-ceca-411f-898a-b9eded4bea11",
   "metadata": {},
   "outputs": [],
   "source": []
  }
 ],
 "metadata": {
  "kernelspec": {
   "display_name": "Python 3 (ipykernel)",
   "language": "python",
   "name": "python3"
  },
  "language_info": {
   "codemirror_mode": {
    "name": "ipython",
    "version": 3
   },
   "file_extension": ".py",
   "mimetype": "text/x-python",
   "name": "python",
   "nbconvert_exporter": "python",
   "pygments_lexer": "ipython3",
   "version": "3.12.7"
  }
 },
 "nbformat": 4,
 "nbformat_minor": 5
}
