{
 "cells": [
  {
   "cell_type": "code",
   "execution_count": 1,
   "id": "74ebc9ad-474e-4315-8d86-e71b4cd739cb",
   "metadata": {},
   "outputs": [
    {
     "name": "stdout",
     "output_type": "stream",
     "text": [
      "HOPE AI\n"
     ]
    }
   ],
   "source": [
    "print(\"HOPE AI\")"
   ]
  },
  {
   "cell_type": "code",
   "execution_count": 5,
   "id": "42b6aada-c603-4470-b1d6-ce9437a096a4",
   "metadata": {
    "scrolled": true
   },
   "outputs": [
    {
     "name": "stdin",
     "output_type": "stream",
     "text": [
      "Enter your institute name? :  HOPE AI\n"
     ]
    }
   ],
   "source": [
    "Name = input(\"Enter your institute name? : \")"
   ]
  },
  {
   "cell_type": "code",
   "execution_count": 6,
   "id": "a69dbd0f-30ac-444e-8e6a-b382f4cbc12d",
   "metadata": {},
   "outputs": [
    {
     "name": "stdin",
     "output_type": "stream",
     "text": [
      "Enter your name Raj\n",
      "Enter your age 15\n",
      "Enter your school name Guru School\n",
      "Enter your degree B.E CSE\n"
     ]
    }
   ],
   "source": [
    "name = input(\"Enter your name\")\n",
    "age = int(input(\"Enter your age\"))\n",
    "schoolName = input(\"Enter your school name\")\n",
    "degree = input(\"Enter your degree\")"
   ]
  },
  {
   "cell_type": "code",
   "execution_count": 8,
   "id": "47dc22d5-5b1c-46ff-af5c-836e97488acd",
   "metadata": {},
   "outputs": [
    {
     "name": "stdout",
     "output_type": "stream",
     "text": [
      "a=  43\n",
      "b=  34\n",
      "add=  77\n"
     ]
    }
   ],
   "source": [
    "a= 43\n",
    "b= 34\n",
    "add= a + b\n",
    "print(\"a= \",a)\n",
    "print(\"b= \",b)\n",
    "print(\"add= \",add)"
   ]
  },
  {
   "cell_type": "code",
   "execution_count": 9,
   "id": "344dee84-8731-43f8-a0ce-1b73c5617ca5",
   "metadata": {},
   "outputs": [
    {
     "name": "stdout",
     "output_type": "stream",
     "text": [
      "a=  43\n",
      "b=  34\n",
      "sub=  9\n"
     ]
    }
   ],
   "source": [
    "sub= a - b\n",
    "print(\"a= \",a)\n",
    "print(\"b= \",b)\n",
    "print(\"sub= \",sub)"
   ]
  },
  {
   "cell_type": "code",
   "execution_count": 11,
   "id": "a27086ee-1694-46bc-bddd-af27dcc51cba",
   "metadata": {},
   "outputs": [
    {
     "name": "stdout",
     "output_type": "stream",
     "text": [
      "a=  63\n",
      "b=  97\n",
      "mul=  6111\n"
     ]
    }
   ],
   "source": [
    "a = 63\n",
    "b = 97\n",
    "mul= a * b\n",
    "print(\"a= \",a)\n",
    "print(\"b= \",b)\n",
    "print(\"mul= \",mul)"
   ]
  },
  {
   "cell_type": "code",
   "execution_count": 12,
   "id": "5f62be2f-ccf8-4275-ba7e-f769740157dd",
   "metadata": {},
   "outputs": [
    {
     "name": "stdout",
     "output_type": "stream",
     "text": [
      "a=  76\n",
      "b=  31\n",
      "Float Div =  2.4516129032258065\n"
     ]
    }
   ],
   "source": [
    "a = 76\n",
    "b = 31\n",
    "mul= a / b\n",
    "print(\"a= \",a)\n",
    "print(\"b= \",b)\n",
    "print(\"Float Div = \",mul)"
   ]
  },
  {
   "cell_type": "code",
   "execution_count": 13,
   "id": "a91c176c-01df-450d-8dbb-ad97ba9b6b9b",
   "metadata": {},
   "outputs": [
    {
     "name": "stdout",
     "output_type": "stream",
     "text": [
      "a=  76\n",
      "b=  31\n",
      "Float Div =  2\n"
     ]
    }
   ],
   "source": [
    "a = 76\n",
    "b = 31\n",
    "mul= a // b\n",
    "print(\"a= \",a)\n",
    "print(\"b= \",b)\n",
    "print(\"Float Div = \",mul)"
   ]
  },
  {
   "cell_type": "code",
   "execution_count": 15,
   "id": "82e9119b-1ca2-417f-b2ae-6ce90a87ace8",
   "metadata": {},
   "outputs": [
    {
     "name": "stdout",
     "output_type": "stream",
     "text": [
      "a=  76\n",
      "b=  31\n",
      "Modulo =  14\n"
     ]
    }
   ],
   "source": [
    "a = 76\n",
    "b = 31\n",
    "Modulo = a % b\n",
    "print(\"a= \",a)\n",
    "print(\"b= \",b)\n",
    "print(\"Modulo = \",Modulo)"
   ]
  },
  {
   "cell_type": "code",
   "execution_count": 19,
   "id": "5757699b-6851-4d5b-bd33-f0413e374b56",
   "metadata": {},
   "outputs": [
    {
     "name": "stdout",
     "output_type": "stream",
     "text": [
      "a=  4\n",
      "b=  4\n",
      "Power =  256\n"
     ]
    }
   ],
   "source": [
    "a = 4\n",
    "b = 4\n",
    "Power= a ** b\n",
    "print(\"a= \",a)\n",
    "print(\"b= \",b)\n",
    "print(\"Power = \",Power)"
   ]
  },
  {
   "cell_type": "code",
   "execution_count": null,
   "id": "5b7e7f5a-b7bd-4ada-a6f3-9ad6f9f5c9fb",
   "metadata": {},
   "outputs": [],
   "source": []
  }
 ],
 "metadata": {
  "kernelspec": {
   "display_name": "Python 3 (ipykernel)",
   "language": "python",
   "name": "python3"
  },
  "language_info": {
   "codemirror_mode": {
    "name": "ipython",
    "version": 3
   },
   "file_extension": ".py",
   "mimetype": "text/x-python",
   "name": "python",
   "nbconvert_exporter": "python",
   "pygments_lexer": "ipython3",
   "version": "3.12.7"
  }
 },
 "nbformat": 4,
 "nbformat_minor": 5
}
