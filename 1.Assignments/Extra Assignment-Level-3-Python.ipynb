{
 "cells": [
  {
   "cell_type": "code",
   "execution_count": 3,
   "id": "0ffefd8f-f740-4690-908c-12921f69105a",
   "metadata": {},
   "outputs": [
    {
     "name": "stdin",
     "output_type": "stream",
     "text": [
      "Enter a Number 10\n"
     ]
    },
    {
     "name": "stdout",
     "output_type": "stream",
     "text": [
      "value:  10\n",
      "Correct\n"
     ]
    }
   ],
   "source": [
    "i = int(input(\"Enter a Number\"))\n",
    "\n",
    "if(i == 10):\n",
    "    print(\"value: \", i)\n",
    "    print(\"Correct\")\n",
    "else:\n",
    "    print(\"value: \", i)\n",
    "    print(\"Wrong\")\n",
    "    "
   ]
  },
  {
   "cell_type": "code",
   "execution_count": 4,
   "id": "dfc1217e-7002-4623-aeba-c4f188829296",
   "metadata": {},
   "outputs": [
    {
     "name": "stdin",
     "output_type": "stream",
     "text": [
      "Enter your password HOPE@123\n"
     ]
    },
    {
     "name": "stdout",
     "output_type": "stream",
     "text": [
      "Your password is correct\n"
     ]
    }
   ],
   "source": [
    "password = input(\"Enter your password\")\n",
    "if(password == \"HOPE@123\"):\n",
    "    print(\"Your password is correct\")\n",
    "else:\n",
    "    print(\"Your password is incorrect\")"
   ]
  },
  {
   "cell_type": "code",
   "execution_count": 6,
   "id": "b68f3104-1d29-4567-be00-718b5349449f",
   "metadata": {},
   "outputs": [
    {
     "name": "stdin",
     "output_type": "stream",
     "text": [
      "Enter your age 20\n"
     ]
    },
    {
     "name": "stdout",
     "output_type": "stream",
     "text": [
      "Adult\n"
     ]
    }
   ],
   "source": [
    "age = int(input(\"Enter your age\"))\n",
    "\n",
    "if(age < 18):\n",
    "    print(\"Children\")\n",
    "elif(age < 28):\n",
    "    print(\"Adult\")\n",
    "elif(age < 45):\n",
    "    print(\"Citizen\")\n",
    "else:\n",
    "    print(\"Senior Citizen\")\n",
    "    "
   ]
  },
  {
   "cell_type": "code",
   "execution_count": 8,
   "id": "d4b3d5a8-a8b1-4440-9dff-8985ddc70ce8",
   "metadata": {},
   "outputs": [
    {
     "name": "stdin",
     "output_type": "stream",
     "text": [
      "Enter any number 1\n"
     ]
    },
    {
     "name": "stdout",
     "output_type": "stream",
     "text": [
      "Number is positive\n"
     ]
    }
   ],
   "source": [
    "number = int(input(\"Enter any number\"))\n",
    "\n",
    "if(number > 0):\n",
    "    print(\"Number is positive\")\n",
    "elif(number < 0):\n",
    "    print(\"Number is negative\")\n",
    "else:\n",
    "    print(\"Number is zero\")"
   ]
  },
  {
   "cell_type": "code",
   "execution_count": 11,
   "id": "a2365023-1148-488b-8fcc-db10e55f71e1",
   "metadata": {},
   "outputs": [
    {
     "name": "stdin",
     "output_type": "stream",
     "text": [
      "Enter any number to check 22\n"
     ]
    },
    {
     "name": "stdout",
     "output_type": "stream",
     "text": [
      "22 is not divisible by 5\n"
     ]
    }
   ],
   "source": [
    "number = int(input(\"Enter any number to check\"))\n",
    "\n",
    "if(number % 5 == 0):\n",
    "    print(f\"{number} is divisible by 5\")\n",
    "else:\n",
    "    print(f\"{number} is not divisible by 5\")"
   ]
  },
  {
   "cell_type": "code",
   "execution_count": null,
   "id": "fb1e1537-667e-4ee4-88cf-ef9fc0a52b32",
   "metadata": {},
   "outputs": [],
   "source": []
  }
 ],
 "metadata": {
  "kernelspec": {
   "display_name": "Python 3 (ipykernel)",
   "language": "python",
   "name": "python3"
  },
  "language_info": {
   "codemirror_mode": {
    "name": "ipython",
    "version": 3
   },
   "file_extension": ".py",
   "mimetype": "text/x-python",
   "name": "python",
   "nbconvert_exporter": "python",
   "pygments_lexer": "ipython3",
   "version": "3.12.7"
  }
 },
 "nbformat": 4,
 "nbformat_minor": 5
}
