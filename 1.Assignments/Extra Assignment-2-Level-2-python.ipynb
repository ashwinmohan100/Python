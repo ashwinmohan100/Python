{
 "cells": [
  {
   "cell_type": "code",
   "execution_count": 1,
   "id": "8e7b7e6a-0234-45c2-81d3-18ba2705eebc",
   "metadata": {},
   "outputs": [
    {
     "name": "stdout",
     "output_type": "stream",
     "text": [
      "0\n",
      "1\n",
      "2\n",
      "3\n",
      "4\n",
      "5\n",
      "6\n",
      "7\n",
      "8\n",
      "9\n",
      "10\n",
      "11\n",
      "12\n",
      "13\n",
      "14\n",
      "15\n",
      "16\n",
      "17\n",
      "18\n",
      "19\n"
     ]
    }
   ],
   "source": [
    "for val in range(0, 20):\n",
    "    print(val)"
   ]
  },
  {
   "cell_type": "code",
   "execution_count": 2,
   "id": "68947eb9-e8de-4fd8-b1e9-786d227752bf",
   "metadata": {},
   "outputs": [
    {
     "name": "stdout",
     "output_type": "stream",
     "text": [
      "10 11 12 13 14 15 16 17 18 19 "
     ]
    }
   ],
   "source": [
    "for val in range(10, 20):\n",
    "    print(val, end= ' ')"
   ]
  },
  {
   "cell_type": "code",
   "execution_count": 4,
   "id": "bd2e5d9a-8e4a-4062-97dd-9affd4b59b26",
   "metadata": {},
   "outputs": [
    {
     "name": "stdout",
     "output_type": "stream",
     "text": [
      "[10, 20, 14, 55, 43, 87, 76]\n",
      "Number of items in newList :  7\n"
     ]
    }
   ],
   "source": [
    "listNew = [10, 20, 14, 55, 43, 87, 76]\n",
    "print(listNew)\n",
    "print(\"Number of items in newList : \",len(listNew))"
   ]
  },
  {
   "cell_type": "code",
   "execution_count": 1,
   "id": "80acfc06-6f56-4872-ad1e-38f1473c077e",
   "metadata": {},
   "outputs": [
    {
     "name": "stdout",
     "output_type": "stream",
     "text": [
      "A\n",
      "r\n",
      "t\n",
      "i\n",
      "f\n",
      "i\n",
      "c\n",
      "i\n",
      "a\n",
      "l\n",
      " \n",
      "I\n",
      "n\n",
      "t\n",
      "e\n",
      "l\n",
      "l\n",
      "i\n",
      "g\n",
      "e\n",
      "n\n",
      "c\n",
      "e\n"
     ]
    }
   ],
   "source": [
    "nameString = \"Artificial Intelligence\"\n",
    "for val in nameString:\n",
    "    print(val)"
   ]
  },
  {
   "cell_type": "code",
   "execution_count": 2,
   "id": "fdd970af-bde4-4a08-b1c6-242833899ba3",
   "metadata": {},
   "outputs": [
    {
     "name": "stdin",
     "output_type": "stream",
     "text": [
      "Your Name Ashwin\n",
      "Your age 24\n",
      "Your profession It\n"
     ]
    },
    {
     "name": "stdout",
     "output_type": "stream",
     "text": [
      "Your Name  Ashwin\n",
      "Your age  24\n",
      "Your Prfession  It\n"
     ]
    }
   ],
   "source": [
    "name = input(\"Your Name\")\n",
    "age = int(input(\"Your age\"))\n",
    "profession = input(\"Your profession\")\n",
    "print(\"Your Name \",name)\n",
    "print(\"Your age \", age)\n",
    "print(\"Your Prfession \", profession)"
   ]
  },
  {
   "cell_type": "code",
   "execution_count": 4,
   "id": "2f3e0865-1d28-4b2c-bd04-07b2ad3de5f7",
   "metadata": {},
   "outputs": [
    {
     "name": "stdout",
     "output_type": "stream",
     "text": [
      "(1, 'Welocome', 2, 'Hope')\n"
     ]
    }
   ],
   "source": [
    "tup = (1, 'Welocome', 2, 'Hope')\n",
    "print(tup)"
   ]
  },
  {
   "cell_type": "code",
   "execution_count": 5,
   "id": "636cc39a-c423-41b8-a172-046699368455",
   "metadata": {},
   "outputs": [
    {
     "name": "stdout",
     "output_type": "stream",
     "text": [
      "((1, 2, 3, 4), ('python', 'hope'))\n"
     ]
    }
   ],
   "source": [
    "tup1 = (1, 2, 3, 4)\n",
    "tup2 = ('python', 'hope')\n",
    "tupFinal = (tup1, tup2)\n",
    "print(tupFinal)"
   ]
  },
  {
   "cell_type": "code",
   "execution_count": 7,
   "id": "6ff45625-fcce-4081-902a-9db0cd306048",
   "metadata": {},
   "outputs": [
    {
     "name": "stdout",
     "output_type": "stream",
     "text": [
      "19 is odd\n",
      "25 is odd\n",
      "1 is odd\n"
     ]
    }
   ],
   "source": [
    "numberTup = (20,10,16,19,25,1,276,188)\n",
    "for val in numberTup:\n",
    "    if(val % 2 == 1):\n",
    "        print(f\"{val} is odd\")    \n"
   ]
  },
  {
   "cell_type": "code",
   "execution_count": 8,
   "id": "ed68c900-5425-4504-b4a8-62322846d79b",
   "metadata": {},
   "outputs": [
    {
     "name": "stdout",
     "output_type": "stream",
     "text": [
      "20 is even\n",
      "10 is even\n",
      "16 is even\n",
      "276 is even\n",
      "188 is even\n"
     ]
    }
   ],
   "source": [
    "numberTup = (20,10,16,19,25,1,276,188)\n",
    "for val in numberTup:\n",
    "    if(val % 2 == 0):\n",
    "        print(f\"{val} is even\")    "
   ]
  },
  {
   "cell_type": "code",
   "execution_count": null,
   "id": "a2cbea7b-a781-4650-b400-053b71a7b10d",
   "metadata": {},
   "outputs": [],
   "source": []
  }
 ],
 "metadata": {
  "kernelspec": {
   "display_name": "Python 3 (ipykernel)",
   "language": "python",
   "name": "python3"
  },
  "language_info": {
   "codemirror_mode": {
    "name": "ipython",
    "version": 3
   },
   "file_extension": ".py",
   "mimetype": "text/x-python",
   "name": "python",
   "nbconvert_exporter": "python",
   "pygments_lexer": "ipython3",
   "version": "3.12.7"
  }
 },
 "nbformat": 4,
 "nbformat_minor": 5
}
