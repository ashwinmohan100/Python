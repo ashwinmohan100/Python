{
 "cells": [
  {
   "cell_type": "code",
   "execution_count": 4,
   "id": "1fab9633-3958-42a3-9f27-5cf4cc99dbd3",
   "metadata": {},
   "outputs": [],
   "source": [
    "from MultipleFunctions import MultipleFunctions"
   ]
  },
  {
   "cell_type": "code",
   "execution_count": 5,
   "id": "d160cd2f-42ad-4a86-9235-157e96d69cac",
   "metadata": {},
   "outputs": [
    {
     "name": "stdout",
     "output_type": "stream",
     "text": [
      "Sub-fields in AI are:\n",
      "Machine Learning\n",
      "Neural Networks\n",
      "Vision\n",
      "Robotics\n",
      "Speech Processing\n",
      "Natural Language Processing\n"
     ]
    }
   ],
   "source": [
    "MultipleFunctions.Subfields()"
   ]
  },
  {
   "cell_type": "code",
   "execution_count": 6,
   "id": "b6b62f1e-b4ef-4da3-9175-608389ae11ac",
   "metadata": {},
   "outputs": [
    {
     "name": "stdin",
     "output_type": "stream",
     "text": [
      "Enter a Number:  22\n"
     ]
    },
    {
     "name": "stdout",
     "output_type": "stream",
     "text": [
      "22 is Even number\n"
     ]
    }
   ],
   "source": [
    "MultipleFunctions.OddEven()\n"
   ]
  },
  {
   "cell_type": "code",
   "execution_count": 7,
   "id": "a72b4e85-c1bc-43b3-b32a-3339f7c90f46",
   "metadata": {},
   "outputs": [
    {
     "name": "stdin",
     "output_type": "stream",
     "text": [
      "Your Gender :  Male\n",
      "Your Age :  25\n"
     ]
    },
    {
     "name": "stdout",
     "output_type": "stream",
     "text": [
      "Elegible\n"
     ]
    }
   ],
   "source": [
    "MultipleFunctions.Elegible()\n"
   ]
  },
  {
   "cell_type": "code",
   "execution_count": 8,
   "id": "0a665966-d422-452c-8a53-fb850fa4e2d7",
   "metadata": {},
   "outputs": [
    {
     "name": "stdin",
     "output_type": "stream",
     "text": [
      "Enter all the subject marks 90 100 100 90 90\n"
     ]
    },
    {
     "name": "stdout",
     "output_type": "stream",
     "text": [
      "Subject1=  90\n",
      "Subject2=  100\n",
      "Subject3=  100\n",
      "Subject4=  90\n",
      "Subject5=  90\n",
      "Total :  470\n",
      "Percentage :  94.0\n"
     ]
    }
   ],
   "source": [
    "subject1, subject2, subject3, subject4, subject5 = map(int, input(\"Enter all the subject marks\").split())\n",
    "MultipleFunctions.percentageCalculation(subject1, subject2, subject3, subject4, subject5)"
   ]
  },
  {
   "cell_type": "code",
   "execution_count": 12,
   "id": "fec2a644-0ea3-4eb3-af48-242578f66432",
   "metadata": {},
   "outputs": [
    {
     "name": "stdin",
     "output_type": "stream",
     "text": [
      "Enter the height :  10\n",
      "Enter the breadth :  20\n",
      "Enter height1 :  4\n",
      "Enter height2 :  5\n",
      "Enter the breadth value 6\n"
     ]
    },
    {
     "name": "stdout",
     "output_type": "stream",
     "text": [
      "Area Formula : (Height*Breadth)/2\n",
      "Area Of Triangle 100.0\n",
      "Perimeter formula: Height1+Height2+Breadth\n",
      "Perimeter of Triangle 15\n"
     ]
    }
   ],
   "source": [
    "MultipleFunctions.Triangle()"
   ]
  },
  {
   "cell_type": "code",
   "execution_count": null,
   "id": "21fb0d82-9d6a-4921-bb5b-eb3cf98d71de",
   "metadata": {},
   "outputs": [],
   "source": []
  }
 ],
 "metadata": {
  "kernelspec": {
   "display_name": "Python 3 (ipykernel)",
   "language": "python",
   "name": "python3"
  },
  "language_info": {
   "codemirror_mode": {
    "name": "ipython",
    "version": 3
   },
   "file_extension": ".py",
   "mimetype": "text/x-python",
   "name": "python",
   "nbconvert_exporter": "python",
   "pygments_lexer": "ipython3",
   "version": "3.12.7"
  }
 },
 "nbformat": 4,
 "nbformat_minor": 5
}
