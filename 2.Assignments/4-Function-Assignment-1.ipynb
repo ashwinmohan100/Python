{
 "cells": [
  {
   "cell_type": "code",
   "execution_count": 2,
   "id": "650ae6af-cc9c-46b3-8c2b-d5cb18c4d85f",
   "metadata": {},
   "outputs": [
    {
     "name": "stdout",
     "output_type": "stream",
     "text": [
      "Sub-fields in AI are:\n",
      "Machine Learning\n",
      "Neural Networks\n",
      "Vision\n",
      "Robotics\n",
      "Speech Processing\n",
      "Natural Language Processing\n"
     ]
    }
   ],
   "source": [
    "def Subfields():\n",
    "    aiSubFields = [\"Machine Learning\", \"Neural Networks\", \"Vision\", \"Robotics\", \"Speech Processing\", \"Natural Language Processing\"]\n",
    "    print(\"Sub-fields in AI are:\")\n",
    "    for fields in aiSubFields:\n",
    "        print(fields)\n",
    "\n",
    "Subfields()\n",
    "    "
   ]
  },
  {
   "cell_type": "code",
   "execution_count": 3,
   "id": "7db93aee-6acd-4047-ae3e-cd5a5b83200d",
   "metadata": {},
   "outputs": [
    {
     "name": "stdin",
     "output_type": "stream",
     "text": [
      "Enter a Number:  22\n"
     ]
    },
    {
     "name": "stdout",
     "output_type": "stream",
     "text": [
      "22 is Even number\n"
     ]
    }
   ],
   "source": [
    "def OddEven():\n",
    "    number = int(input(\"Enter a Number: \"))\n",
    "    if(number % 2 == 0):\n",
    "        print(f\"{number} is Even number\")\n",
    "    else :\n",
    "        print(f\"{number} is Odd number\")\n",
    "\n",
    "OddEven()\n",
    "    \n",
    "    "
   ]
  },
  {
   "cell_type": "code",
   "execution_count": 9,
   "id": "a295ad77-8329-4d97-9957-4c0d98432582",
   "metadata": {},
   "outputs": [
    {
     "name": "stdin",
     "output_type": "stream",
     "text": [
      "Your Gender :  Male\n",
      "Your Age :  20\n"
     ]
    },
    {
     "name": "stdout",
     "output_type": "stream",
     "text": [
      "Not Elegible\n"
     ]
    }
   ],
   "source": [
    "def Elegible():\n",
    "    Gender = input(\"Your Gender : \")\n",
    "    age = int(input(\"Your Age : \"))\n",
    "    if((Gender == \"Male\" and age >= 21) or (Gender == \"Female\" and age >= 18)):\n",
    "        print(\"Elegible\")\n",
    "    else:\n",
    "        print(\"Not Elegible\")\n",
    "\n",
    "Elegible()"
   ]
  },
  {
   "cell_type": "code",
   "execution_count": 20,
   "id": "3e68e5e8-755b-46a7-be61-a72ab884f680",
   "metadata": {},
   "outputs": [
    {
     "name": "stdin",
     "output_type": "stream",
     "text": [
      "Enter all the subject marks 98 87 95 95 93\n"
     ]
    },
    {
     "name": "stdout",
     "output_type": "stream",
     "text": [
      "Subject1=  98\n",
      "Subject2=  87\n",
      "Subject3=  95\n",
      "Subject4=  95\n",
      "Subject5=  93\n",
      "Total :  468\n",
      "Percentage :  93.60000000000001\n"
     ]
    }
   ],
   "source": [
    "subject1, subject2, subject3, subject4, subject5 = map(int, input(\"Enter all the subject marks\").split())\n",
    "print(\"Subject1= \",subject1)\n",
    "print(\"Subject2= \",subject2)\n",
    "print(\"Subject3= \",subject3)\n",
    "print(\"Subject4= \",subject4)\n",
    "print(\"Subject5= \",subject5)\n",
    "\n",
    "def percentageCalculation(s1, s2, s3, s4, s5):\n",
    "    sum = s1 + s2 + s3 + s4 + s5\n",
    "    percentage = (sum / 500) * 100\n",
    "    print(\"Total : \", sum)\n",
    "    print(\"Percentage : \",percentage) \n",
    "\n",
    "#print(percentage(subject1, subject2, subject3, subject4, subject5))\n",
    "percentageCalculation(subject1, subject2, subject3, subject4, subject5)"
   ]
  },
  {
   "cell_type": "code",
   "execution_count": 21,
   "id": "c6c10f14-a7d0-4cde-8588-1fb5c570df60",
   "metadata": {},
   "outputs": [
    {
     "name": "stdin",
     "output_type": "stream",
     "text": [
      "Enter the height :  10\n",
      "Enter the breadth :  50\n",
      "Enter height1 :  3\n",
      "Enter height2 :  4\n",
      "Enter the breadth value 15\n"
     ]
    },
    {
     "name": "stdout",
     "output_type": "stream",
     "text": [
      "Area Formula : (Height*Breadth)/2\n",
      "Area Of Triangle 250.0\n",
      "Perimeter formula: Height1+Height2+Breadth\n",
      "Perimeter of Triangle 22\n"
     ]
    }
   ],
   "source": [
    "def Triangle():\n",
    "    height = int(input(\"Enter the height : \"))\n",
    "    breadth = int(input(\"Enter the breadth : \"))\n",
    "    height1 = int(input(\"Enter height1 : \"))\n",
    "    height2 = int(input(\"Enter height2 : \"))\n",
    "    breadthPerimeter = int(input(\"Enter the breadth value\"))\n",
    "    \n",
    "    area = (height * breadth) / 2\n",
    "    print(\"Area Formula : (Height*Breadth)/2\")\n",
    "    print(\"Area Of Triangle\", area)\n",
    "\n",
    "    print(\"Perimeter formula: Height1+Height2+Breadth\")\n",
    "    perimeter = height1 + height2 + breadthPerimeter\n",
    "    print(\"Perimeter of Triangle\", perimeter)\n",
    "\n",
    "Triangle()\n",
    "    "
   ]
  },
  {
   "cell_type": "code",
   "execution_count": null,
   "id": "c4414597-436c-4df3-8746-f218b34f1268",
   "metadata": {},
   "outputs": [],
   "source": []
  }
 ],
 "metadata": {
  "kernelspec": {
   "display_name": "Python 3 (ipykernel)",
   "language": "python",
   "name": "python3"
  },
  "language_info": {
   "codemirror_mode": {
    "name": "ipython",
    "version": 3
   },
   "file_extension": ".py",
   "mimetype": "text/x-python",
   "name": "python",
   "nbconvert_exporter": "python",
   "pygments_lexer": "ipython3",
   "version": "3.12.7"
  }
 },
 "nbformat": 4,
 "nbformat_minor": 5
}
